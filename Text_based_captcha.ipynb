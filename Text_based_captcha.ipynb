{
  "nbformat": 4,
  "nbformat_minor": 0,
  "metadata": {
    "colab": {
      "provenance": []
    },
    "kernelspec": {
      "name": "python3",
      "display_name": "Python 3"
    },
    "language_info": {
      "name": "python"
    }
  },
  "cells": [
    {
      "cell_type": "markdown",
      "source": [
        "#For Google Colab"
      ],
      "metadata": {
        "id": "3mnPpzNkw--5"
      }
    },
    {
      "cell_type": "code",
      "source": [
        "# Install the required library\n",
        "!pip install captcha\n",
        "\n",
        "import random\n",
        "import string\n",
        "from PIL import Image\n",
        "import IPython.display as display\n",
        "from captcha.image import ImageCaptcha\n",
        "\n",
        "def create_image():\n",
        "    \"\"\"Generate a CAPTCHA image and return the image and the random string.\"\"\"\n",
        "    random_string = ''.join(random.choices(string.ascii_letters + string.digits, k=6))\n",
        "    image_captcha = ImageCaptcha(width=250, height=125)\n",
        "    image_generated = image_captcha.generate(random_string)\n",
        "    return Image.open(image_generated), random_string\n",
        "\n",
        "def display_image(image):\n",
        "    \"\"\"Display the generated CAPTCHA image.\"\"\"\n",
        "    display.display(image)\n",
        "\n",
        "def check(input_string, random_string):\n",
        "    \"\"\"Check if the input string matches the CAPTCHA string.\"\"\"\n",
        "    if input_string.lower() == random_string.lower():\n",
        "        print(\"Verified\")\n",
        "    else:\n",
        "        print(\"Incorrect! Try again.\")\n",
        "        return False\n",
        "    return True\n",
        "\n",
        "# Main execution\n",
        "image, random_string = create_image()\n",
        "display_image(image)\n",
        "\n",
        "while True:\n",
        "    user_input = input(\"Enter the CAPTCHA: \")\n",
        "    if check(user_input, random_string):\n",
        "        break\n",
        "    else:\n",
        "        image, random_string = create_image()\n",
        "        display_image(image)\n"
      ],
      "metadata": {
        "colab": {
          "base_uri": "https://localhost:8080/",
          "height": 458
        },
        "id": "G1pKVQ_IwjtP",
        "outputId": "af59fb41-c45b-4b2b-e9f5-7dc39ac15f71"
      },
      "execution_count": 3,
      "outputs": [
        {
          "output_type": "stream",
          "name": "stdout",
          "text": [
            "Collecting captcha\n",
            "  Downloading captcha-0.6.0-py3-none-any.whl.metadata (2.1 kB)\n",
            "Requirement already satisfied: Pillow in /usr/local/lib/python3.10/dist-packages (from captcha) (9.4.0)\n",
            "Downloading captcha-0.6.0-py3-none-any.whl (102 kB)\n",
            "\u001b[?25l   \u001b[90m━━━━━━━━━━━━━━━━━━━━━━━━━━━━━━━━━━━━━━━━\u001b[0m \u001b[32m0.0/102.2 kB\u001b[0m \u001b[31m?\u001b[0m eta \u001b[36m-:--:--\u001b[0m\r\u001b[2K   \u001b[91m━━━━━━━━━━━━━━━━━━━━━━━━━━━━━━━━━━━━\u001b[0m\u001b[90m╺\u001b[0m\u001b[90m━━━\u001b[0m \u001b[32m92.2/102.2 kB\u001b[0m \u001b[31m2.6 MB/s\u001b[0m eta \u001b[36m0:00:01\u001b[0m\r\u001b[2K   \u001b[90m━━━━━━━━━━━━━━━━━━━━━━━━━━━━━━━━━━━━━━━━\u001b[0m \u001b[32m102.2/102.2 kB\u001b[0m \u001b[31m2.1 MB/s\u001b[0m eta \u001b[36m0:00:00\u001b[0m\n",
            "\u001b[?25hInstalling collected packages: captcha\n",
            "Successfully installed captcha-0.6.0\n"
          ]
        },
        {
          "output_type": "display_data",
          "data": {
            "text/plain": [
              "<PIL.PngImagePlugin.PngImageFile image mode=RGB size=250x125>"
            ],
            "image/png": "[encoded data removed]"
          },
          "metadata": {}
        },
        {
          "output_type": "stream",
          "name": "stdout",
          "text": [
            "Enter the CAPTCHA: Xj1uSo\n",
            "Incorrect! Try again.\n"
          ]
        },
        {
          "output_type": "display_data",
          "data": {
            "text/plain": [
              "<PIL.PngImagePlugin.PngImageFile image mode=RGB size=250x125>"
            ],
            "image/png": "[encoded data removed]"
          },
          "metadata": {}
        },
        {
          "output_type": "stream",
          "name": "stdout",
          "text": [
            "Enter the CAPTCHA: IJgmfq\n",
            "Verified\n"
          ]
        }
      ]
    },
    {
      "cell_type": "markdown",
      "source": [
        "For Pycharm and other compilers"
      ],
      "metadata": {
        "id": "FXvKzggLxMYe"
      }
    },
    {
      "cell_type": "code",
      "execution_count": 1,
      "metadata": {
        "colab": {
          "base_uri": "https://localhost:8080/",
          "height": 106
        },
        "id": "7XwfL6nBv8OL",
        "outputId": "f33ad572-9440-43dc-c94c-d7f5fb102527"
      },
      "outputs": [
        {
          "output_type": "error",
          "ename": "IndentationError",
          "evalue": "expected an indented block after 'if' statement on line 23 (<ipython-input-1-96c429dba44f>, line 24)",
          "traceback": [
            "\u001b[0;36m  File \u001b[0;32m\"<ipython-input-1-96c429dba44f>\"\u001b[0;36m, line \u001b[0;32m24\u001b[0m\n\u001b[0;31m    verify_label.grid_forget()\u001b[0m\n\u001b[0m    ^\u001b[0m\n\u001b[0;31mIndentationError\u001b[0m\u001b[0;31m:\u001b[0m expected an indented block after 'if' statement on line 23\n"
          ]
        }
      ],
      "source": [
        "# Importing the Required Libraries\n",
        "import random\n",
        "import string\n",
        "from tkinter import Tk, Label, Entry, Button, END\n",
        "from PIL import ImageTk, Image\n",
        "from captcha.image import ImageCaptcha\n",
        "def createImage(flag=0):\n",
        " \"\"\"\n",
        " Defining the method createImage() which will create\n",
        " and generate a Captcha Image based on a randomly\n",
        " generated strings. The Captcha Image generated is then\n",
        " incorporated into the GUI window we have designed.\n",
        " \"\"\"\n",
        " global random_string\n",
        " global image_label\n",
        " global image_display\n",
        " global entry\n",
        " global verify_label\n",
        " # The if block below works only when we press the\n",
        " # Reload Button in the GUI. It basically removes\n",
        " # the label (if visible) which shows whether the\n",
        " # entered string is correct or incorrect.\n",
        " if flag == 1:\n",
        " verify_label.grid_forget()\n",
        " # Removing the contents of the input box.\n",
        " entry.delete(0, END)\n",
        " # Generating a random string for the Captcha\n",
        " random_string = ''.join(random.choices(string.ascii_letters + string.digits, k=6))\n",
        " # Creating a Captcha Image\n",
        " image_captcha = ImageCaptcha(width=250, height=125)\n",
        " image_generated = image_captcha.generate(random_string)\n",
        " image_display = ImageTk.PhotoImage(Image.open(image_generated))\n",
        " # Removing the previous Image (if present) and\n",
        " # displaying a new one.\n",
        " image_label.grid_forget()\n",
        " image_label = Label(root, image=image_display)\n",
        "lOMoARcPSD|17469730\n",
        " image_label.grid(row=1, column=0, columnspan=2,\n",
        " padx=10)\n",
        "def check(x, y):\n",
        " \"\"\"\n",
        " Defining the method check() which will check\n",
        " whether the string entered by the user matches\n",
        " with the randomly generated string. If there is\n",
        " a match then \"Verified\" pops up in the window.\n",
        " Otherwise, \"Incorrect!\" pops up and a new Captcha\n",
        " Image is generated for the user to try again.\n",
        " \"\"\"\n",
        " # Making the scope of the below mentioned\n",
        " # variables because their values are accessed\n",
        " # globally in this script.\n",
        " global verify_label\n",
        " verify_label.grid_forget()\n",
        " if x.lower() == y.lower():\n",
        " verify_label = Label(master=root,\n",
        " text=\"Verified\",\n",
        " font=\"Arial 15\",\n",
        " bg='#ffe75c',\n",
        " fg=\"#00a806\"\n",
        " )\n",
        " verify_label.grid(row=0, column=0, columnspan=2, pady=10)\n",
        " else:\n",
        " verify_label = Label(master=root,\n",
        " text=\"Incorrect!\",\n",
        " font=\"Arial 15\",\n",
        " bg='#ffe75c',\n",
        " fg=\"#fa0800\"\n",
        " )\n",
        " verify_label.grid(row=0, column=0, columnspan=2, pady=10)\n",
        " createImage()\n",
        "if _name_ == \"_main_\":\n",
        " # Initializing Tkinter by creating a root widget,\n",
        " # setting Title and Background Color\n",
        " root = Tk()\n",
        " root.title('Image Captcha')\n",
        " root.configure(background='#ffe75c')\n",
        "lOMoARcPSD|17469730\n",
        " # Initializing the Variables to be defined later\n",
        " verify_label = Label(root)\n",
        " image_label = Label(root)\n",
        " # Defining the Input Box and placing it in the window\n",
        " entry = Entry(root, width=10, borderwidth=5,\n",
        " font=\"Arial 15\", justify=\"center\")\n",
        " entry.grid(row=2, column=0)\n",
        " # Creating an Image for the first time.\n",
        " createImage()\n",
        " # Defining the path for the reload button image\n",
        " # and using it to add the reload button in the\n",
        " # GUI window\n",
        "\n",
        " reload_img = ImageTk.PhotoImage(Image.open(\"refresh.png\").resize((32, 32), Image.ANTIALIAS))\n",
        " reload_button = Button(image=reload_img, command=lambda: createImage(1))\n",
        " reload_button.grid(row=2, column=1, pady=10)\n",
        " # Defining the submit button\n",
        " submit_button = Button(root, text=\"Submit\", font=\"Arial 10\", command=lambda: check(entry.get(), random_string))\n",
        " submit_button.grid(row=3, column=0, columnspan=2, pady=10)\n",
        " root.bind('<Return>', func=lambda Event: check(entry.get(), random_string))\n",
        " # This makes the program loops till the user\n",
        " # doesn't close the GUI window\n",
        " root.mainloop()\n"
      ]
    }
  ]
}